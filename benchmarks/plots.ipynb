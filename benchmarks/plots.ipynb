{
 "cells": [
  {
   "cell_type": "code",
   "execution_count": null,
   "id": "2a7c5b2e",
   "metadata": {},
   "outputs": [],
   "source": [
    "import pandas as pd\n",
    "import matplotlib.pyplot as plt\n",
    "\n",
    "\n",
    "def plot_gflops(csv_path, device_query_csv_path=\"benchmarks/device_info.csv\"):\n",
    "    # Load benchmark data\n",
    "    df = pd.read_csv(csv_path)\n",
    "\n",
    "    # Load device info\n",
    "    dev_info = pd.read_csv(device_query_csv_path)\n",
    "    theoretical_gflops = dev_info[\"theoretical_gflops\"].iloc[0]\n",
    "    device_name = dev_info[\"name\"].iloc[0]\n",
    "\n",
    "    print(f\"Using device: {device_name}\")\n",
    "    print(f\"Theoretical FP32 peak: {theoretical_gflops:.1f} GFLOPs\")\n",
    "\n",
    "    seq_lens = sorted(df[\"seq_len\"].unique())\n",
    "    num_heads = sorted(df[\"num_heads\"].unique())\n",
    "\n",
    "    plt.style.use(\"seaborn-v0_8-whitegrid\")\n",
    "    fig, axes = plt.subplots(\n",
    "        1, len(seq_lens), figsize=(6 * len(seq_lens), 5), sharey=True\n",
    "    )\n",
    "    if len(seq_lens) == 1:\n",
    "        axes = [axes]\n",
    "\n",
    "    for ax, seq_len in zip(axes, seq_lens):\n",
    "        subset = df[df[\"seq_len\"] == seq_len]\n",
    "        for h in num_heads:\n",
    "            group = subset[subset[\"num_heads\"] == h].sort_values(\"head_dim\")\n",
    "            ax.plot(group[\"head_dim\"], group[\"gflops\"], marker=\"o\", label=f\"heads={h}\")\n",
    "\n",
    "        ax.axhline(\n",
    "            y=theoretical_gflops, color=\"r\", linestyle=\"--\", label=\"Theoretical Peak\"\n",
    "        )\n",
    "        ax.set_title(f\"Sequence Length = {seq_len}\")\n",
    "        ax.set_xlabel(\"Head Dimension\")\n",
    "        ax.set_xscale(\"log\", base=2)\n",
    "        ax.set_ylabel(\"GFLOPs/s\")\n",
    "        ax.legend()\n",
    "\n",
    "    plt.suptitle(f\"Attention GFLOPs vs Head Dim ({device_name})\", fontsize=14)\n",
    "    plt.tight_layout()\n",
    "    plt.show()"
   ]
  },
  {
   "cell_type": "markdown",
   "id": "3e9f6ac1",
   "metadata": {},
   "source": [
    "### Vanilla Custom Batched and Strided GEMM"
   ]
  },
  {
   "cell_type": "code",
   "execution_count": null,
   "id": "3f12c765",
   "metadata": {},
   "outputs": [],
   "source": [
    "plot_gflops(\"benchmarks/vanilla_Quadro_T2000_sm75.csv\")"
   ]
  },
  {
   "cell_type": "markdown",
   "id": "29d95002",
   "metadata": {},
   "source": [
    "### Vanilla V2 Custom Batched and Strided GEMM"
   ]
  },
  {
   "cell_type": "code",
   "execution_count": null,
   "id": "8d822c1d",
   "metadata": {},
   "outputs": [],
   "source": [
    "plot_gflops(\"benchmarks/vanilla_v2_Quadro_T2000_sm75.csv\")"
   ]
  },
  {
   "cell_type": "markdown",
   "id": "9d523e11",
   "metadata": {},
   "source": [
    "### cuBLAS batched and strided GEMM"
   ]
  },
  {
   "cell_type": "code",
   "execution_count": null,
   "id": "4aeb6372",
   "metadata": {},
   "outputs": [],
   "source": [
    "plot_gflops(\"benchmarks/vanilla_cublas_Quadro_T2000_sm75.csv\")"
   ]
  }
 ],
 "metadata": {
  "kernelspec": {
   "display_name": "Python 3 (ipykernel)",
   "language": "python",
   "name": "python3"
  },
  "language_info": {
   "codemirror_mode": {
    "name": "ipython",
    "version": 3
   },
   "file_extension": ".py",
   "mimetype": "text/x-python",
   "name": "python",
   "nbconvert_exporter": "python",
   "pygments_lexer": "ipython3",
   "version": "3.11.5"
  }
 },
 "nbformat": 4,
 "nbformat_minor": 5
}
